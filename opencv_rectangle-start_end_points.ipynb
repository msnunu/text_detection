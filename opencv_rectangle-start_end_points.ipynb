{
 "cells": [
  {
   "cell_type": "code",
   "execution_count": 1,
   "id": "cd906a3a",
   "metadata": {},
   "outputs": [],
   "source": [
    "import cv2\n",
    "import pytesseract"
   ]
  },
  {
   "cell_type": "code",
   "execution_count": 2,
   "id": "0fca6aef",
   "metadata": {},
   "outputs": [],
   "source": [
    "pytesseract.pytesseract.tesseract_cmd = 'C:\\\\Program Files\\\\Tesseract-OCR\\\\tesseract'"
   ]
  },
  {
   "cell_type": "code",
   "execution_count": 3,
   "id": "2d850196",
   "metadata": {},
   "outputs": [
    {
     "data": {
      "text/plain": [
       "-1"
      ]
     },
     "execution_count": 3,
     "metadata": {},
     "output_type": "execute_result"
    }
   ],
   "source": [
    "img = cv2.imread('4.PNG')\n",
    "img = cv2.cvtColor(img,cv2.COLOR_BGR2RGB)\n",
    "cv2.imshow('Image', img)\n",
    "cv2.waitKey(0)"
   ]
  },
  {
   "cell_type": "code",
   "execution_count": 4,
   "id": "ac5ca474",
   "metadata": {},
   "outputs": [],
   "source": [
    "text = pytesseract.image_to_string(img, lang='eng')"
   ]
  },
  {
   "cell_type": "code",
   "execution_count": 5,
   "id": "d9631051",
   "metadata": {},
   "outputs": [
    {
     "data": {
      "text/plain": [
       "'HELLO\\nWORLD\\n'"
      ]
     },
     "execution_count": 5,
     "metadata": {},
     "output_type": "execute_result"
    }
   ],
   "source": [
    "text"
   ]
  },
  {
   "cell_type": "markdown",
   "id": "77fbb8f2",
   "metadata": {},
   "source": [
    "- image_to_boxes returns the values of [character-xpoint-ypoint-width-height]"
   ]
  },
  {
   "cell_type": "code",
   "execution_count": 6,
   "id": "387ca8d1",
   "metadata": {},
   "outputs": [
    {
     "name": "stdout",
     "output_type": "stream",
     "text": [
      "H 153 121 167 141 0\n",
      "E 172 121 184 141 0\n",
      "L 188 121 199 141 0\n",
      "L 202 121 212 141 0\n",
      "O 213 121 231 141 0\n",
      "W 143 68 169 88 0\n",
      "O 171 68 189 88 0\n",
      "R 193 68 207 88 0\n",
      "L 211 68 221 88 0\n",
      "D 224 68 240 88 0\n",
      "\n"
     ]
    }
   ],
   "source": [
    "boxes= pytesseract.image_to_boxes(img)\n",
    "print(boxes)"
   ]
  },
  {
   "cell_type": "code",
   "execution_count": 8,
   "id": "3eb44416",
   "metadata": {},
   "outputs": [
    {
     "name": "stdout",
     "output_type": "stream",
     "text": [
      "189 381 3\n"
     ]
    }
   ],
   "source": [
    "#the height and width of img\n",
    "hImg, wImg, _ = img.shape\n",
    "print(hImg,wImg, _)"
   ]
  },
  {
   "cell_type": "markdown",
   "id": "5ba235af",
   "metadata": {},
   "source": [
    "### cv2.rectangle"
   ]
  },
  {
   "cell_type": "markdown",
   "id": "66c68b3d",
   "metadata": {},
   "source": [
    "#### cv2.rectangle(image_name,start point as a tuple, end point as a tuple,color,thickness)"
   ]
  },
  {
   "cell_type": "markdown",
   "id": "94d9f578",
   "metadata": {},
   "source": [
    "Both OpenCV and Pytesseract use the same coordinate system, where the origin (0,0) is located at the top-left corner of the image. The X-axis increases from left to right, and the Y-axis increases from top to bottom."
   ]
  },
  {
   "cell_type": "markdown",
   "id": "34e71f77",
   "metadata": {},
   "source": [
    "Now we gonna try to figure out how start and end points work,i became obsessed with how start and end points are perceived.\n",
    "start point:(x1,yı)\n",
    "end point:(x2,y2)"
   ]
  },
  {
   "cell_type": "markdown",
   "id": "b20c7920",
   "metadata": {},
   "source": [
    "- start>>> (x,hImg-y)\n",
    "- end>>> (w, hImg-h)\n"
   ]
  },
  {
   "cell_type": "markdown",
   "id": "f4af14ed",
   "metadata": {},
   "source": [
    "Just focus on H character.\n",
    "H 153 121 167 141 0\n",
    "\n",
    "start>>>(153,189-121)\n",
    "end>>>>>(167,189-141)"
   ]
  },
  {
   "cell_type": "code",
   "execution_count": 12,
   "id": "7458c95b",
   "metadata": {},
   "outputs": [
    {
     "data": {
      "text/plain": [
       "-1"
      ]
     },
     "execution_count": 12,
     "metadata": {},
     "output_type": "execute_result"
    }
   ],
   "source": [
    "cv2.rectangle(img,(153,68),(167,48),(255,255,0),1)\n",
    "cv2.imshow('Try', img)\n",
    "cv2.waitKey(0)\n",
    "#output correctly bounds the H character with blue lines"
   ]
  },
  {
   "cell_type": "markdown",
   "id": "cde472c1",
   "metadata": {},
   "source": [
    "When I searched some pages, I read that x1,y1 is the upper left corner and x2,y2 is the bottom right corner. But this idea doesn't work when you visualize the coordinate system. Because...."
   ]
  },
  {
   "cell_type": "code",
   "execution_count": 14,
   "id": "9b74d4e7",
   "metadata": {},
   "outputs": [
    {
     "data": {
      "text/plain": [
       "-1"
      ]
     },
     "execution_count": 14,
     "metadata": {},
     "output_type": "execute_result"
    }
   ],
   "source": [
    "cv2.rectangle(img,(167,48),(153,68),(255,0,255),1)\n",
    "cv2.imshow('Try', img)\n",
    "cv2.waitKey(0)\n",
    "#this output also correctly bounds the H character with red(seems pink) line"
   ]
  },
  {
   "cell_type": "code",
   "execution_count": 17,
   "id": "54fbfef0",
   "metadata": {},
   "outputs": [
    {
     "data": {
      "text/plain": [
       "-1"
      ]
     },
     "execution_count": 17,
     "metadata": {},
     "output_type": "execute_result"
    }
   ],
   "source": [
    "cv2.rectangle(img,(153,48),(167,68),(0,255,255),1)\n",
    "cv2.imshow('Try', img)\n",
    "cv2.waitKey(0)\n",
    "#this output also correctly bounds the H character with yellow line"
   ]
  },
  {
   "cell_type": "code",
   "execution_count": 18,
   "id": "33b9054f",
   "metadata": {},
   "outputs": [
    {
     "data": {
      "text/plain": [
       "-1"
      ]
     },
     "execution_count": 18,
     "metadata": {},
     "output_type": "execute_result"
    }
   ],
   "source": [
    "cv2.rectangle(img,(167,68),(153,48),(255,255,0),1)\n",
    "cv2.imshow('Try', img)\n",
    "cv2.waitKey(0)\n",
    "#this output also correctly bounds the H character with blue line."
   ]
  },
  {
   "cell_type": "markdown",
   "id": "dc01db68",
   "metadata": {},
   "source": [
    "## So I think it doesn't matter what order you write the points x1,x2 and y1,y2 for the cv2.rectangle function. Just give it a two tuples as (x,y). It gonna fıgure out which one is left-top corner, right-bottom corner"
   ]
  },
  {
   "cell_type": "code",
   "execution_count": null,
   "id": "eab0a369",
   "metadata": {},
   "outputs": [],
   "source": []
  }
 ],
 "metadata": {
  "kernelspec": {
   "display_name": "Python 3 (ipykernel)",
   "language": "python",
   "name": "python3"
  },
  "language_info": {
   "codemirror_mode": {
    "name": "ipython",
    "version": 3
   },
   "file_extension": ".py",
   "mimetype": "text/x-python",
   "name": "python",
   "nbconvert_exporter": "python",
   "pygments_lexer": "ipython3",
   "version": "3.10.9"
  }
 },
 "nbformat": 4,
 "nbformat_minor": 5
}
